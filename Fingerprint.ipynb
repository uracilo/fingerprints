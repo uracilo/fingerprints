{
 "cells": [
  {
   "cell_type": "code",
   "execution_count": null,
   "id": "74d686c1",
   "metadata": {},
   "outputs": [],
   "source": [
    "# Finger prints\n",
    "# https://www.kaggle.com/ruizgara/socofing\n",
    "#!pip install opencv-contrib-python opencv-python\n"
   ]
  },
  {
   "cell_type": "code",
   "execution_count": null,
   "id": "a4373d9f",
   "metadata": {},
   "outputs": [],
   "source": [
    "import os \n",
    "import cv2\n",
    "\n",
    "sample = cv2.imread(\"archive/socofing/SOCOFing/Altered/Altered-Hard/150__M_Right_index_finger_CR.BMP\")\n",
    "\n",
    "counter = 0\n",
    "best_score = 0\n",
    "filename = None\n",
    "image = None\n",
    "kp1, kp2, mp = None, None, None\n",
    "\n",
    "for file in [file for file in os.listdir(\"archive/SOCOFing/Real/\")]:\n",
    "    if counter % 1000 == 0:\n",
    "        print(str(counter) + ' ' + file)\n",
    "    counter += 1\n",
    "    \n",
    "    fingerprint_image = cv2.imread(\"archive/SOCOFing/Real/\" + file)\n",
    "    sift = cv2.SIFT_create()\n",
    "    \n",
    "    keypoints_1, descriptors_1 = sift.detectAndCompute(sample, None)\n",
    "    keypoints_2, descriptors_2 = sift.detectAndCompute(fingerprint_image, None)\n",
    "    \n",
    "    #matches = cv2.FlannBasedMatcher({'algorithm':1, 'trees':10},{}).knnMatch(descriptors_1, descriptors_2, k=2)\n",
    "    \n",
    "    \n",
    "    matches = cv2.FlannBasedMatcher(dict(algorithm=1, trees=10),dict()).knnMatch(descriptors_1, descriptors_2, k=2)\n",
    "    \n",
    "    match_points = []\n",
    "    \n",
    "    for p, q in matches:\n",
    "       if p.distance < 0.1*q.distance:\n",
    "          match_points.append(p)\n",
    "            \n",
    "    keypoints= 0\n",
    "    \n",
    "    if len(keypoints_1) < len(keypoints_2):\n",
    "        keypoints = len(keypoints_1)\n",
    "    else:\n",
    "        keypoints = len(keypoints_2)\n",
    "    \n",
    "    \n",
    "    if (len(match_points)/ keypoints * 100 )> best_score:\n",
    "        best_score = len(match_points)/keypoints * 100\n",
    "        filename = file\n",
    "        image = fingerprint_image\n",
    "        kp1, kp2, mp = keypoints_1, keypoints_2, match_points\n",
    "        \n",
    "        \n",
    "        \n",
    "\n",
    "print(\"BEST MATCH: \" + filename ) \n",
    "print(\"Score: \" + str(best_score))"
   ]
  },
  {
   "cell_type": "code",
   "execution_count": null,
   "id": "cbd6332c",
   "metadata": {},
   "outputs": [],
   "source": [
    "result = cv2.drawMatches(sample, kp1, image, kp2, mp, None)\n",
    "result = cv2.resize(result,None, fx=4, fy=4)\n",
    "cv2.imshow(\"Result\",result)\n",
    "cv2.waitKey(0)"
   ]
  },
  {
   "cell_type": "code",
   "execution_count": null,
   "id": "3afd401d",
   "metadata": {},
   "outputs": [],
   "source": []
  },
  {
   "cell_type": "code",
   "execution_count": null,
   "id": "7ac6e075",
   "metadata": {},
   "outputs": [],
   "source": []
  },
  {
   "cell_type": "code",
   "execution_count": null,
   "id": "fc9d13c1",
   "metadata": {},
   "outputs": [],
   "source": []
  },
  {
   "cell_type": "code",
   "execution_count": null,
   "id": "1679e73a",
   "metadata": {},
   "outputs": [],
   "source": []
  },
  {
   "cell_type": "code",
   "execution_count": null,
   "id": "ee72cae9",
   "metadata": {},
   "outputs": [],
   "source": []
  },
  {
   "cell_type": "code",
   "execution_count": null,
   "id": "5e68b927",
   "metadata": {},
   "outputs": [],
   "source": []
  },
  {
   "cell_type": "code",
   "execution_count": null,
   "id": "81800a80",
   "metadata": {},
   "outputs": [],
   "source": []
  },
  {
   "cell_type": "code",
   "execution_count": null,
   "id": "6155167b",
   "metadata": {},
   "outputs": [],
   "source": []
  },
  {
   "cell_type": "code",
   "execution_count": null,
   "id": "6f64fac5",
   "metadata": {},
   "outputs": [],
   "source": []
  },
  {
   "cell_type": "code",
   "execution_count": null,
   "id": "95d7b026",
   "metadata": {},
   "outputs": [],
   "source": []
  },
  {
   "cell_type": "code",
   "execution_count": null,
   "id": "15083a27",
   "metadata": {},
   "outputs": [],
   "source": []
  },
  {
   "cell_type": "code",
   "execution_count": null,
   "id": "93aac1c4",
   "metadata": {},
   "outputs": [],
   "source": []
  },
  {
   "cell_type": "code",
   "execution_count": null,
   "id": "87103ebf",
   "metadata": {},
   "outputs": [],
   "source": []
  },
  {
   "cell_type": "code",
   "execution_count": null,
   "id": "63ae602c",
   "metadata": {},
   "outputs": [],
   "source": []
  }
 ],
 "metadata": {
  "kernelspec": {
   "display_name": "Python 3 (ipykernel)",
   "language": "python",
   "name": "python3"
  },
  "language_info": {
   "codemirror_mode": {
    "name": "ipython",
    "version": 3
   },
   "file_extension": ".py",
   "mimetype": "text/x-python",
   "name": "python",
   "nbconvert_exporter": "python",
   "pygments_lexer": "ipython3",
   "version": "3.8.10"
  }
 },
 "nbformat": 4,
 "nbformat_minor": 5
}
